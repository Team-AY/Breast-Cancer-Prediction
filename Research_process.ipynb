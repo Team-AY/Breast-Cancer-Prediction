{
 "cells": [
  {
   "cell_type": "markdown",
   "metadata": {},
   "source": [
    "### Research Process \n"
   ]
  },
  {
   "cell_type": "markdown",
   "metadata": {},
   "source": [
    "#### Init Libraries"
   ]
  },
  {
   "cell_type": "code",
   "execution_count": null,
   "metadata": {},
   "outputs": [],
   "source": [
    "import pandas as pd\n",
    "import plotly.graph_objs as go\n",
    "import matplotlib.pyplot as plt\n",
    "import seaborn as sns\n",
    "import numpy as np\n",
    "from sklearn.preprocessing import LabelEncoder\n",
    "from sklearn.preprocessing import RobustScaler\n"
   ]
  },
  {
   "cell_type": "markdown",
   "metadata": {},
   "source": [
    "#### Load Dataset and split into Features and Label"
   ]
  },
  {
   "cell_type": "code",
   "execution_count": null,
   "metadata": {},
   "outputs": [],
   "source": [
    "#load data\n",
    "df=pd.read_csv(\"breast-cancer-wisconsin-data/data.csv\")\n",
    "#drop irelevent columns for the classification\n",
    "df = df.drop(columns=['Unnamed: 32', 'id'])\n",
    "# rearange the data for X - featuers and Y leabels \n",
    "X = df.iloc[:, 1:]\n",
    "y = df.iloc[:, 0]"
   ]
  },
  {
   "cell_type": "markdown",
   "metadata": {},
   "source": [
    "#### Encode Labels"
   ]
  },
  {
   "cell_type": "code",
   "execution_count": null,
   "metadata": {},
   "outputs": [],
   "source": [
    "le = LabelEncoder()\n",
    "y = le.fit_transform(y)"
   ]
  },
  {
   "cell_type": "markdown",
   "metadata": {},
   "source": [
    "#### The mapping of the labels"
   ]
  },
  {
   "cell_type": "code",
   "execution_count": null,
   "metadata": {},
   "outputs": [],
   "source": [
    "le_name_mapping = dict(zip(le.classes_, le.transform(le.classes_)))\n",
    "print(le_name_mapping)"
   ]
  },
  {
   "cell_type": "markdown",
   "metadata": {},
   "source": [
    "#### Splitting the data into Train, Test and Valid datasets"
   ]
  },
  {
   "cell_type": "code",
   "execution_count": null,
   "metadata": {},
   "outputs": [],
   "source": [
    "#split the data\n",
    "from sklearn.model_selection import train_test_split\n",
    "X_train, X_test, y_train, y_test = train_test_split(X, y, test_size=0.2, random_state=42)\n",
    "X_train, X_val, y_train, y_val = train_test_split(X_train, y_train, test_size=0.2, random_state=42)"
   ]
  },
  {
   "cell_type": "markdown",
   "metadata": {},
   "source": [
    "#### Scale the data"
   ]
  },
  {
   "cell_type": "code",
   "execution_count": null,
   "metadata": {},
   "outputs": [],
   "source": [
    "scaler = RobustScaler()\n",
    "X_train = scaler.fit_transform(X_train)\n",
    "X_test = scaler.transform(X_test)\n",
    "X_val = scaler.transform(X_val)"
   ]
  },
  {
   "cell_type": "markdown",
   "metadata": {},
   "source": [
    "#### Handling the imbalance between the classes"
   ]
  },
  {
   "cell_type": "code",
   "execution_count": null,
   "metadata": {},
   "outputs": [],
   "source": [
    "#handling imbalance data \n",
    "from sklearn.utils.class_weight import compute_class_weight\n",
    "\n",
    "# Compute class weights\n",
    "#the class weight is done only on the train data to impact the learning process and to evaluete beter the model proformence\n",
    "class_weights = compute_class_weight('balanced', classes=np.unique(y_train), y=y_train)\n",
    "class_weight_dict = dict(enumerate(class_weights))\n",
    "class_weight_dict"
   ]
  },
  {
   "cell_type": "markdown",
   "metadata": {},
   "source": [
    "as predicted the minorty class 'M'=1 gets higher weight of 1.368"
   ]
  },
  {
   "cell_type": "markdown",
   "metadata": {},
   "source": [
    "### Neural Networks"
   ]
  },
  {
   "cell_type": "markdown",
   "metadata": {},
   "source": [
    "##### Init Libraries"
   ]
  },
  {
   "cell_type": "code",
   "execution_count": null,
   "metadata": {},
   "outputs": [],
   "source": [
    "#from keras.models import Sequential\n",
    "#from keras.layers import Dense\n",
    "#from keras.regularizers import l1, l2\n",
    "#from keras.layers import Dropout, Flatten, BatchNormalization\n",
    "from keras import models\n",
    "from keras import layers\n",
    "from keras import regularizers\n",
    "from keras import optimizers\n",
    "from keras import losses\n",
    "from keras import metrics\n",
    "from keras import callbacks\n",
    "from keras import utils\n",
    "\n",
    "from sklearn.metrics import confusion_matrix\n",
    "from sklearn.metrics import ConfusionMatrixDisplay\n",
    "from sklearn.metrics import classification_report\n",
    "\n",
    "import tensorflow as tf\n",
    "\n",
    "tf.config.experimental.enable_op_determinism()"
   ]
  },
  {
   "cell_type": "markdown",
   "metadata": {},
   "source": [
    "##### Function Helpers"
   ]
  },
  {
   "cell_type": "code",
   "execution_count": null,
   "metadata": {},
   "outputs": [],
   "source": [
    "def model_result(model):\n",
    "    print('================================================================================')\n",
    "    print(f'Evaluation Report for Model: {model.name}')\n",
    "\n",
    "    # accuracy\n",
    "    result = model.evaluate(X_test, y_test, verbose=0)        \n",
    "    print(f'Loss Value: {result[0]:.3f}, Accuracy: {result[1]*100:.3f}%')\n",
    "\n",
    "    # confusion matrix\n",
    "    y_prob = model.predict(X_test, verbose=0)\n",
    "    y_pred = np.round(y_prob).astype(int)    \n",
    "    cm_test = confusion_matrix(y_test, y_pred)    \n",
    "    #sns.heatmap(cm_test,annot=True)\n",
    "    cm_disp = ConfusionMatrixDisplay(cm_test, display_labels=le.classes_)\n",
    "    cm_disp.plot()\n",
    "    plt.show()\n",
    "\n",
    "    # classification report\n",
    "    report = classification_report(y_test, y_pred, target_names=le.classes_)\n",
    "    print(report)\n",
    "\n",
    "    print('Model Summary:')\n",
    "    print(model.summary())\n",
    "    print('================================================================================')"
   ]
  },
  {
   "cell_type": "code",
   "execution_count": null,
   "metadata": {},
   "outputs": [],
   "source": [
    "def model_history(history):\n",
    "    plt.figure(figsize=(15,6))\n",
    "\n",
    "    val_loss_min_pos = np.argmin(history.history['val_loss'])\n",
    "\n",
    "    # Plotting the training and validation loss\n",
    "    plt.subplot(1, 2, 1)\n",
    "    plt.plot(history.history['loss'], label='Train Loss', color='#8502d1')\n",
    "    plt.plot(history.history['val_loss'], label='Validation Loss')\n",
    "    plt.title('Train and Validation Loss')\n",
    "    plt.plot(val_loss_min_pos, history.history['val_loss'][val_loss_min_pos], 'r*', label='Min Validation Loss')\n",
    "    plt.text(val_loss_min_pos, history.history['val_loss'][val_loss_min_pos], f'({val_loss_min_pos}, {history.history['val_loss'][val_loss_min_pos]:.3f})', va='bottom')\n",
    "    plt.legend()\n",
    "\n",
    "    # Plotting the training and validation accuracy\n",
    "    plt.subplot(1, 2, 2)\n",
    "    plt.plot(history.history['accuracy'], label='Train Accuracy', color='#8502d1')\n",
    "    plt.plot(history.history['val_accuracy'], label='Validation Accuracy')\n",
    "    plt.plot(val_loss_min_pos, history.history['val_accuracy'][val_loss_min_pos], 'r*', label='Validation Accuracy @ Min Validation Loss')\n",
    "    plt.text(val_loss_min_pos, history.history['val_accuracy'][val_loss_min_pos], f'({val_loss_min_pos}, {history.history['val_accuracy'][val_loss_min_pos]:.3f})', va='bottom')\n",
    "    plt.title('Train and Validation Accuracy')\n",
    "    plt.legend()\n",
    "\n",
    "    plt.show()    "
   ]
  },
  {
   "cell_type": "code",
   "execution_count": null,
   "metadata": {},
   "outputs": [],
   "source": [
    "def proc_history(history):\n",
    "\n",
    "    val_loss_min_pos = np.argmin(history.history['val_loss'])\n",
    "\n",
    "    train_acc = history.history['accuracy'][val_loss_min_pos]\n",
    "    train_loss = history.history['loss'][val_loss_min_pos]\n",
    "\n",
    "    val_acc = history.history['val_accuracy'][val_loss_min_pos]\n",
    "    val_loss = history.history['val_loss'][val_loss_min_pos]\n",
    "\n",
    "    return {'Train Accuracy': train_acc, 'Train Loss': train_loss, 'Validation Accuracy': val_acc, 'Validation Loss': val_loss}"
   ]
  },
  {
   "cell_type": "code",
   "execution_count": null,
   "metadata": {},
   "outputs": [],
   "source": [
    "def model_fit(model, epochNum, pca=False, verbose='auto'):    \n",
    "    utils.set_random_seed(0)\n",
    "    \n",
    "    early_stopping = callbacks.EarlyStopping(monitor='val_loss', patience=40, restore_best_weights=True, verbose=verbose)\n",
    "    reduce_lr = callbacks.ReduceLROnPlateau(monitor='val_loss', factor=0.5, patience=10, min_lr=0.00001, verbose=verbose)\n",
    "    checkpoint_filepath = f'model_checkpoints/{model.name}_checkpoint.model.keras'\n",
    "    model_checkpoint_callback = callbacks.ModelCheckpoint(\n",
    "        filepath=checkpoint_filepath,\n",
    "        monitor='val_loss',\n",
    "        mode='min',\n",
    "        save_best_only=True,\n",
    "        verbose=verbose)\n",
    "\n",
    "    model.compile(optimizer=optimizers.Adam(learning_rate=0.001), loss='binary_crossentropy', metrics=['accuracy'])\n",
    "\n",
    "    history = model.fit(X_train, y_train, batch_size=50, epochs=epochNum, validation_data=(X_val, y_val), class_weight=class_weight_dict, callbacks=[model_checkpoint_callback, reduce_lr, early_stopping], verbose=verbose)\n",
    "\n",
    "    model = models.load_model(checkpoint_filepath)\n",
    "\n",
    "    return history, model"
   ]
  },
  {
   "cell_type": "markdown",
   "metadata": {},
   "source": [
    "##### Build the model"
   ]
  },
  {
   "cell_type": "markdown",
   "metadata": {},
   "source": [
    "#### SLP"
   ]
  },
  {
   "cell_type": "markdown",
   "metadata": {},
   "source": [
    "##### SLP Baseline"
   ]
  },
  {
   "cell_type": "code",
   "execution_count": null,
   "metadata": {},
   "outputs": [],
   "source": [
    "utils.set_random_seed(0)\n",
    "MODEL_NAME = 'SLP'\n",
    "\n",
    "model = models.Sequential(name=f'{MODEL_NAME}')\n",
    "model.add(layers.Dense(1, activation='sigmoid', input_shape=(30,)))\n",
    "\n",
    "history, model = model_fit(model, epochNum=600)"
   ]
  },
  {
   "cell_type": "code",
   "execution_count": null,
   "metadata": {},
   "outputs": [],
   "source": [
    "model_history(history)"
   ]
  },
  {
   "cell_type": "code",
   "execution_count": null,
   "metadata": {},
   "outputs": [],
   "source": [
    "model_result(model)"
   ]
  },
  {
   "cell_type": "markdown",
   "metadata": {},
   "source": [
    "##### SLP with Dropout 0.2"
   ]
  },
  {
   "cell_type": "code",
   "execution_count": null,
   "metadata": {},
   "outputs": [],
   "source": [
    "utils.set_random_seed(0)\n",
    "MODEL_NAME = 'SLP_Dropout_0.2'\n",
    "\n",
    "model = models.Sequential(name=f'{MODEL_NAME}')\n",
    "\n",
    "model.add(layers.Dropout(rate=0.2, input_shape=(30,)))\n",
    "\n",
    "model.add(layers.Dense(1, activation='sigmoid'))\n",
    "\n",
    "history, model = model_fit(model, epochNum=1000)"
   ]
  },
  {
   "cell_type": "code",
   "execution_count": null,
   "metadata": {},
   "outputs": [],
   "source": [
    "model_history(history)"
   ]
  },
  {
   "cell_type": "code",
   "execution_count": null,
   "metadata": {},
   "outputs": [],
   "source": [
    "model_result(model)"
   ]
  },
  {
   "cell_type": "markdown",
   "metadata": {},
   "source": [
    "##### SLP with Dropout 0.1"
   ]
  },
  {
   "cell_type": "code",
   "execution_count": null,
   "metadata": {},
   "outputs": [],
   "source": [
    "utils.set_random_seed(0)\n",
    "MODEL_NAME = 'SLP_Dropout_0.1'\n",
    "\n",
    "model = models.Sequential(name=f'{MODEL_NAME}')\n",
    "\n",
    "model.add(layers.Dropout(rate=0.1, input_shape=(30,)))\n",
    "\n",
    "model.add(layers.Dense(1, activation='sigmoid'))\n",
    "\n",
    "history, model = model_fit(model, epochNum=1000)"
   ]
  },
  {
   "cell_type": "code",
   "execution_count": null,
   "metadata": {},
   "outputs": [],
   "source": [
    "model_history(history)"
   ]
  },
  {
   "cell_type": "code",
   "execution_count": null,
   "metadata": {},
   "outputs": [],
   "source": [
    "model_result(model)"
   ]
  },
  {
   "cell_type": "markdown",
   "metadata": {},
   "source": [
    "#### MLP"
   ]
  },
  {
   "cell_type": "markdown",
   "metadata": {},
   "source": [
    "##### MLP Baseline"
   ]
  },
  {
   "cell_type": "code",
   "execution_count": null,
   "metadata": {},
   "outputs": [],
   "source": [
    "utils.set_random_seed(0)\n",
    "MODEL_NAME = 'MLP'\n",
    "\n",
    "model = models.Sequential(name=f'{MODEL_NAME}')\n",
    "model.add(layers.Dense(1, activation='relu', input_shape=(30,)))\n",
    "model.add(layers.Dense(1, activation='sigmoid'))\n",
    "\n",
    "history, model = model_fit(model, epochNum=2000)"
   ]
  },
  {
   "cell_type": "code",
   "execution_count": null,
   "metadata": {},
   "outputs": [],
   "source": [
    "model_history(history)"
   ]
  },
  {
   "cell_type": "code",
   "execution_count": null,
   "metadata": {},
   "outputs": [],
   "source": [
    "model_result(model)"
   ]
  },
  {
   "cell_type": "markdown",
   "metadata": {},
   "source": [
    "##### MLP - 2 Neurons"
   ]
  },
  {
   "cell_type": "code",
   "execution_count": null,
   "metadata": {},
   "outputs": [],
   "source": [
    "utils.set_random_seed(0)\n",
    "MODEL_NAME = 'MLP'\n",
    "\n",
    "model = models.Sequential(name=f'{MODEL_NAME}')\n",
    "model.add(layers.Dense(2, activation='relu', input_shape=(30,)))\n",
    "model.add(layers.Dense(1, activation='sigmoid'))\n",
    "\n",
    "history, model = model_fit(model, epochNum=2000)"
   ]
  },
  {
   "cell_type": "code",
   "execution_count": null,
   "metadata": {},
   "outputs": [],
   "source": [
    "model_history(history)"
   ]
  },
  {
   "cell_type": "code",
   "execution_count": null,
   "metadata": {},
   "outputs": [],
   "source": [
    "model_result(model)"
   ]
  },
  {
   "cell_type": "markdown",
   "metadata": {},
   "source": [
    "##### MLP [1:30]"
   ]
  },
  {
   "cell_type": "code",
   "execution_count": null,
   "metadata": {},
   "outputs": [],
   "source": [
    "utils.set_random_seed(0)\n",
    "MODEL_NAME = 'MLP'\n",
    "\n",
    "model = models.Sequential(name=f'{MODEL_NAME}')\n",
    "model.add(layers.Dense(30, activation='relu', input_shape=(30,)))\n",
    "model.add(layers.Dense(1, activation='sigmoid'))\n",
    "\n",
    "history, model = model_fit(model, epochNum=600)"
   ]
  },
  {
   "cell_type": "code",
   "execution_count": null,
   "metadata": {},
   "outputs": [],
   "source": [
    "model_history(history)"
   ]
  },
  {
   "cell_type": "code",
   "execution_count": null,
   "metadata": {},
   "outputs": [],
   "source": [
    "model_result(model)"
   ]
  },
  {
   "cell_type": "markdown",
   "metadata": {},
   "source": [
    "##### MLP [1:30, 2:30]"
   ]
  },
  {
   "cell_type": "code",
   "execution_count": null,
   "metadata": {},
   "outputs": [],
   "source": [
    "utils.set_random_seed(0)\n",
    "MODEL_NAME = 'MLP_L1_30_L2_30'\n",
    "\n",
    "model = models.Sequential(name=f'{MODEL_NAME}')\n",
    "\n",
    "model.add(layers.Dense(30, activation='relu', input_shape=(30,)))\n",
    "\n",
    "model.add(layers.Dense(30, activation='relu', input_shape=(30,)))\n",
    "\n",
    "model.add(layers.Dense(1, activation='sigmoid'))\n",
    "\n",
    "history, model = model_fit(model, epochNum=600)"
   ]
  },
  {
   "cell_type": "code",
   "execution_count": null,
   "metadata": {},
   "outputs": [],
   "source": [
    "model_history(history)"
   ]
  },
  {
   "cell_type": "code",
   "execution_count": null,
   "metadata": {},
   "outputs": [],
   "source": [
    "model_result(model)"
   ]
  },
  {
   "cell_type": "markdown",
   "metadata": {},
   "source": [
    "##### MLP [1:30] Dropout 0.5"
   ]
  },
  {
   "cell_type": "code",
   "execution_count": null,
   "metadata": {},
   "outputs": [],
   "source": [
    "utils.set_random_seed(0)\n",
    "MODEL_NAME = 'MLP_Dropout_0.5'\n",
    "\n",
    "model = models.Sequential(name=f'{MODEL_NAME}')\n",
    "\n",
    "model.add(layers.Dense(30, activation='relu', input_shape=(30,)))\n",
    "model.add(layers.Dropout(rate=0.5))\n",
    "\n",
    "model.add(layers.Dense(1, activation='sigmoid'))\n",
    "\n",
    "history, model = model_fit(model, epochNum=1000)"
   ]
  },
  {
   "cell_type": "code",
   "execution_count": null,
   "metadata": {},
   "outputs": [],
   "source": [
    "model_history(history)"
   ]
  },
  {
   "cell_type": "code",
   "execution_count": null,
   "metadata": {},
   "outputs": [],
   "source": [
    "model_result(model)"
   ]
  },
  {
   "cell_type": "markdown",
   "metadata": {},
   "source": [
    "##### MLP [1:30 Dropout 0.5, 2:30 Dropout 0.5,] "
   ]
  },
  {
   "cell_type": "code",
   "execution_count": null,
   "metadata": {},
   "outputs": [],
   "source": [
    "utils.set_random_seed(0)\n",
    "MODEL_NAME = 'MLP_Dropout_0.5'\n",
    "\n",
    "model = models.Sequential(name=f'{MODEL_NAME}')\n",
    "\n",
    "model.add(layers.Dense(30, activation='relu', input_shape=(30,)))\n",
    "model.add(layers.Dropout(rate=0.5))\n",
    "\n",
    "model.add(layers.Dense(30, activation='relu'))\n",
    "model.add(layers.Dropout(rate=0.5))\n",
    "\n",
    "model.add(layers.Dense(1, activation='sigmoid'))\n",
    "\n",
    "history, model = model_fit(model, epochNum=1000)"
   ]
  },
  {
   "cell_type": "code",
   "execution_count": null,
   "metadata": {},
   "outputs": [],
   "source": [
    "model_history(history)"
   ]
  },
  {
   "cell_type": "code",
   "execution_count": null,
   "metadata": {},
   "outputs": [],
   "source": [
    "model_result(model)"
   ]
  },
  {
   "cell_type": "markdown",
   "metadata": {},
   "source": [
    "##### MLP [1:15 Dropout 0.5, 2:15 Dropout 0.5,] "
   ]
  },
  {
   "cell_type": "code",
   "execution_count": null,
   "metadata": {},
   "outputs": [],
   "source": [
    "utils.set_random_seed(0)\n",
    "MODEL_NAME = 'MLP_L1_15_L2_15_Dropout_0.5'\n",
    "\n",
    "model = models.Sequential(name=f'{MODEL_NAME}')\n",
    "\n",
    "model.add(layers.Dense(15, activation='relu', input_shape=(30,)))\n",
    "model.add(layers.Dropout(rate=0.5))\n",
    "\n",
    "model.add(layers.Dense(15, activation='relu'))\n",
    "model.add(layers.Dropout(rate=0.5))\n",
    "\n",
    "model.add(layers.Dense(1, activation='sigmoid'))\n",
    "\n",
    "history, model = model_fit(model, epochNum=1000)"
   ]
  },
  {
   "cell_type": "code",
   "execution_count": null,
   "metadata": {},
   "outputs": [],
   "source": [
    "model_history(history)"
   ]
  },
  {
   "cell_type": "code",
   "execution_count": null,
   "metadata": {},
   "outputs": [],
   "source": [
    "model_result(model)"
   ]
  },
  {
   "cell_type": "markdown",
   "metadata": {},
   "source": [
    "##### MLP [1:15 tanh Dropout 0.5, 2:15 tanh Dropout 0.5,] "
   ]
  },
  {
   "cell_type": "code",
   "execution_count": null,
   "metadata": {},
   "outputs": [],
   "source": [
    "utils.set_random_seed(0)\n",
    "MODEL_NAME = 'MLP_L1_15_tanh_L2_15_tanh_Dropout_0.5'\n",
    "\n",
    "model = models.Sequential(name=f'{MODEL_NAME}')\n",
    "\n",
    "model.add(layers.Dense(15, activation='tanh', input_shape=(30,)))\n",
    "model.add(layers.Dropout(rate=0.5))\n",
    "\n",
    "model.add(layers.Dense(15, activation='tanh'))\n",
    "model.add(layers.Dropout(rate=0.5))\n",
    "\n",
    "model.add(layers.Dense(1, activation='sigmoid'))\n",
    "\n",
    "history, model = model_fit(model, epochNum=1000)"
   ]
  },
  {
   "cell_type": "code",
   "execution_count": null,
   "metadata": {},
   "outputs": [],
   "source": [
    "model_history(history)"
   ]
  },
  {
   "cell_type": "code",
   "execution_count": null,
   "metadata": {},
   "outputs": [],
   "source": [
    "model_result(model)"
   ]
  },
  {
   "cell_type": "code",
   "execution_count": null,
   "metadata": {},
   "outputs": [],
   "source": [
    "models_list = []"
   ]
  },
  {
   "cell_type": "markdown",
   "metadata": {},
   "source": [
    "### SLP"
   ]
  },
  {
   "cell_type": "code",
   "execution_count": null,
   "metadata": {},
   "outputs": [],
   "source": [
    "# SLP\n",
    "model = models.Sequential(name=f'SLP_1')\n",
    "model.add(layers.Dense(1, activation='sigmoid', input_shape=(30,)))\n",
    "models_list.append(model)\n",
    "\n",
    "# Add Dropout 0.1, 0.2\n",
    "model = models.Sequential(name=f'SLP_2')\n",
    "model.add(layers.Dropout(rate=0.1, input_shape=(30,)))\n",
    "model.add(layers.Dense(1, activation='sigmoid'))\n",
    "models_list.append(model)\n",
    "\n",
    "model = models.Sequential(name=f'SLP_3')\n",
    "model.add(layers.Dropout(rate=0.2, input_shape=(30,)))\n",
    "model.add(layers.Dense(1, activation='sigmoid'))\n",
    "models_list.append(model)"
   ]
  },
  {
   "cell_type": "markdown",
   "metadata": {},
   "source": [
    "### MLP"
   ]
  },
  {
   "cell_type": "code",
   "execution_count": null,
   "metadata": {},
   "outputs": [],
   "source": [
    "# MLP 1 Layer\n",
    "model = models.Sequential(name=f'MLP_1')\n",
    "model.add(layers.Dense(2, activation='relu', input_shape=(30,)))\n",
    "model.add(layers.Dense(1, activation='sigmoid'))\n",
    "models_list.append(model)\n",
    "\n",
    "model = models.Sequential(name=f'MLP_2')\n",
    "model.add(layers.Dense(5, activation='relu', input_shape=(30,)))\n",
    "model.add(layers.Dense(1, activation='sigmoid'))\n",
    "models_list.append(model)\n",
    "\n",
    "model = models.Sequential(name=f'MLP_3')\n",
    "model.add(layers.Dense(10, activation='relu', input_shape=(30,)))\n",
    "model.add(layers.Dense(1, activation='sigmoid'))\n",
    "models_list.append(model)\n",
    "\n",
    "model = models.Sequential(name=f'MLP_4')\n",
    "model.add(layers.Dense(15, activation='relu', input_shape=(30,)))\n",
    "model.add(layers.Dense(1, activation='sigmoid'))\n",
    "models_list.append(model)\n",
    "\n",
    "model = models.Sequential(name=f'MLP_5')\n",
    "model.add(layers.Dense(30, activation='relu', input_shape=(30,)))\n",
    "model.add(layers.Dense(1, activation='sigmoid'))\n",
    "models_list.append(model)"
   ]
  },
  {
   "cell_type": "code",
   "execution_count": null,
   "metadata": {},
   "outputs": [],
   "source": [
    "# MLP 2 Layer\n",
    "model = models.Sequential(name=f'MLP_6')\n",
    "model.add(layers.Dense(2, activation='relu', input_shape=(30,)))\n",
    "model.add(layers.Dense(2, activation='relu'))\n",
    "model.add(layers.Dense(1, activation='sigmoid')), models_list.append(model)\n",
    "\n",
    "model = models.Sequential(name=f'MLP_7')\n",
    "model.add(layers.Dense(5, activation='relu', input_shape=(30,)))\n",
    "model.add(layers.Dense(5, activation='relu'))\n",
    "model.add(layers.Dense(1, activation='sigmoid'))\n",
    "models_list.append(model)\n",
    "\n",
    "model = models.Sequential(name=f'MLP_8')\n",
    "model.add(layers.Dense(10, activation='relu', input_shape=(30,)))\n",
    "model.add(layers.Dense(10, activation='relu'))\n",
    "model.add(layers.Dense(1, activation='sigmoid'))\n",
    "models_list.append(model)\n",
    "\n",
    "model = models.Sequential(name=f'MLP_9')\n",
    "model.add(layers.Dense(15, activation='relu', input_shape=(30,)))\n",
    "model.add(layers.Dense(15, activation='relu'))\n",
    "model.add(layers.Dense(1, activation='sigmoid'))\n",
    "models_list.append(model)\n",
    "\n",
    "model = models.Sequential(name=f'MLP_10')\n",
    "model.add(layers.Dense(30, activation='relu', input_shape=(30,)))\n",
    "model.add(layers.Dense(30, activation='relu'))\n",
    "model.add(layers.Dense(1, activation='sigmoid'))\n",
    "models_list.append(model)"
   ]
  },
  {
   "cell_type": "code",
   "execution_count": null,
   "metadata": {},
   "outputs": [],
   "source": [
    "# MLP 3 Layer\n",
    "model = models.Sequential(name=f'MLP_11')\n",
    "model.add(layers.Dense(30, activation='relu', input_shape=(30,)))\n",
    "model.add(layers.Dense(15, activation='relu'))\n",
    "model.add(layers.Dense(10, activation='relu'))\n",
    "model.add(layers.Dense(1, activation='sigmoid'))\n",
    "models_list.append(model)\n",
    "\n",
    "model = models.Sequential(name=f'MLP_12')\n",
    "model.add(layers.Dense(10, activation='relu', input_shape=(30,)))\n",
    "model.add(layers.Dense(15, activation='relu'))\n",
    "model.add(layers.Dense(30, activation='relu'))\n",
    "model.add(layers.Dense(1, activation='sigmoid'))\n",
    "models_list.append(model)"
   ]
  },
  {
   "cell_type": "markdown",
   "metadata": {},
   "source": [
    "### MLP - Dropout 0.3"
   ]
  },
  {
   "cell_type": "code",
   "execution_count": null,
   "metadata": {},
   "outputs": [],
   "source": [
    "# MLP 1 Layer\n",
    "model = models.Sequential(name=f'MLP_13')\n",
    "model.add(layers.Dense(2, activation='relu', input_shape=(30,)))\n",
    "model.add(layers.Dropout(rate=0.3))\n",
    "model.add(layers.Dense(1, activation='sigmoid'))\n",
    "models_list.append(model)\n",
    "\n",
    "model = models.Sequential(name=f'MLP_14')\n",
    "model.add(layers.Dense(5, activation='relu', input_shape=(30,)))\n",
    "model.add(layers.Dropout(rate=0.3))\n",
    "model.add(layers.Dense(1, activation='sigmoid'))\n",
    "models_list.append(model)\n",
    "\n",
    "model = models.Sequential(name=f'MLP_15')\n",
    "model.add(layers.Dense(10, activation='relu', input_shape=(30,)))\n",
    "model.add(layers.Dropout(rate=0.3))\n",
    "model.add(layers.Dense(1, activation='sigmoid'))\n",
    "models_list.append(model)\n",
    "\n",
    "model = models.Sequential(name=f'MLP_16')\n",
    "model.add(layers.Dense(15, activation='relu', input_shape=(30,)))\n",
    "model.add(layers.Dropout(rate=0.3))\n",
    "model.add(layers.Dense(1, activation='sigmoid'))\n",
    "models_list.append(model)\n",
    "\n",
    "model = models.Sequential(name=f'MLP_17')\n",
    "model.add(layers.Dense(30, activation='relu', input_shape=(30,)))\n",
    "model.add(layers.Dropout(rate=0.3))\n",
    "model.add(layers.Dense(1, activation='sigmoid'))\n",
    "models_list.append(model)"
   ]
  },
  {
   "cell_type": "code",
   "execution_count": null,
   "metadata": {},
   "outputs": [],
   "source": [
    "# MLP 2 Layer\n",
    "model = models.Sequential(name=f'MLP_18')\n",
    "model.add(layers.Dense(2, activation='relu', input_shape=(30,)))\n",
    "model.add(layers.Dropout(rate=0.3))\n",
    "model.add(layers.Dense(2, activation='relu'))\n",
    "model.add(layers.Dropout(rate=0.3))\n",
    "model.add(layers.Dense(1, activation='sigmoid')), models_list.append(model)\n",
    "\n",
    "model = models.Sequential(name=f'MLP_19')\n",
    "model.add(layers.Dense(5, activation='relu', input_shape=(30,)))\n",
    "model.add(layers.Dropout(rate=0.3))\n",
    "model.add(layers.Dense(5, activation='relu'))\n",
    "model.add(layers.Dropout(rate=0.3))\n",
    "model.add(layers.Dense(1, activation='sigmoid'))\n",
    "models_list.append(model)\n",
    "\n",
    "model = models.Sequential(name=f'MLP_20')\n",
    "model.add(layers.Dense(10, activation='relu', input_shape=(30,)))\n",
    "model.add(layers.Dropout(rate=0.3))\n",
    "model.add(layers.Dense(10, activation='relu'))\n",
    "model.add(layers.Dropout(rate=0.3))\n",
    "model.add(layers.Dense(1, activation='sigmoid'))\n",
    "models_list.append(model)\n",
    "\n",
    "model = models.Sequential(name=f'MLP_21')\n",
    "model.add(layers.Dense(15, activation='relu', input_shape=(30,)))\n",
    "model.add(layers.Dropout(rate=0.3))\n",
    "model.add(layers.Dense(15, activation='relu'))\n",
    "model.add(layers.Dropout(rate=0.3))\n",
    "model.add(layers.Dense(1, activation='sigmoid'))\n",
    "models_list.append(model)\n",
    "\n",
    "model = models.Sequential(name=f'MLP_22')\n",
    "model.add(layers.Dense(30, activation='relu', input_shape=(30,)))\n",
    "model.add(layers.Dropout(rate=0.3))\n",
    "model.add(layers.Dense(30, activation='relu'))\n",
    "model.add(layers.Dropout(rate=0.3))\n",
    "model.add(layers.Dense(1, activation='sigmoid'))\n",
    "models_list.append(model)"
   ]
  },
  {
   "cell_type": "code",
   "execution_count": null,
   "metadata": {},
   "outputs": [],
   "source": [
    "# MLP 3 Layer\n",
    "model = models.Sequential(name=f'MLP_23')\n",
    "model.add(layers.Dense(30, activation='relu', input_shape=(30,)))\n",
    "model.add(layers.Dropout(rate=0.3))\n",
    "model.add(layers.Dense(15, activation='relu'))\n",
    "model.add(layers.Dropout(rate=0.3))\n",
    "model.add(layers.Dense(10, activation='relu'))\n",
    "model.add(layers.Dropout(rate=0.3))\n",
    "model.add(layers.Dense(1, activation='sigmoid'))\n",
    "models_list.append(model)\n",
    "\n",
    "model = models.Sequential(name=f'MLP_24')\n",
    "model.add(layers.Dense(10, activation='relu', input_shape=(30,)))\n",
    "model.add(layers.Dropout(rate=0.3))\n",
    "model.add(layers.Dense(15, activation='relu'))\n",
    "model.add(layers.Dropout(rate=0.3))\n",
    "model.add(layers.Dense(30, activation='relu'))\n",
    "model.add(layers.Dropout(rate=0.3))\n",
    "model.add(layers.Dense(1, activation='sigmoid'))\n",
    "models_list.append(model)"
   ]
  },
  {
   "cell_type": "markdown",
   "metadata": {},
   "source": [
    "### MLP - Dropout 0.5"
   ]
  },
  {
   "cell_type": "code",
   "execution_count": null,
   "metadata": {},
   "outputs": [],
   "source": [
    "# MLP 1 Layer\n",
    "model = models.Sequential(name=f'MLP_25')\n",
    "model.add(layers.Dense(2, activation='relu', input_shape=(30,)))\n",
    "model.add(layers.Dropout(rate=0.5))\n",
    "model.add(layers.Dense(1, activation='sigmoid'))\n",
    "models_list.append(model)\n",
    "\n",
    "model = models.Sequential(name=f'MLP_26')\n",
    "model.add(layers.Dense(5, activation='relu', input_shape=(30,)))\n",
    "model.add(layers.Dropout(rate=0.5))\n",
    "model.add(layers.Dense(1, activation='sigmoid'))\n",
    "models_list.append(model)\n",
    "\n",
    "model = models.Sequential(name=f'MLP_27')\n",
    "model.add(layers.Dense(10, activation='relu', input_shape=(30,)))\n",
    "model.add(layers.Dropout(rate=0.5))\n",
    "model.add(layers.Dense(1, activation='sigmoid'))\n",
    "models_list.append(model)\n",
    "\n",
    "model = models.Sequential(name=f'MLP_28')\n",
    "model.add(layers.Dense(15, activation='relu', input_shape=(30,)))\n",
    "model.add(layers.Dropout(rate=0.5))\n",
    "model.add(layers.Dense(1, activation='sigmoid'))\n",
    "models_list.append(model)\n",
    "\n",
    "model = models.Sequential(name=f'MLP_29')\n",
    "model.add(layers.Dense(30, activation='relu', input_shape=(30,)))\n",
    "model.add(layers.Dropout(rate=0.5))\n",
    "model.add(layers.Dense(1, activation='sigmoid'))\n",
    "models_list.append(model)"
   ]
  },
  {
   "cell_type": "code",
   "execution_count": null,
   "metadata": {},
   "outputs": [],
   "source": [
    "# MLP 2 Layer\n",
    "model = models.Sequential(name=f'MLP_30')\n",
    "model.add(layers.Dense(2, activation='relu', input_shape=(30,)))\n",
    "model.add(layers.Dropout(rate=0.5))\n",
    "model.add(layers.Dense(2, activation='relu'))\n",
    "model.add(layers.Dropout(rate=0.5))\n",
    "model.add(layers.Dense(1, activation='sigmoid')), models_list.append(model)\n",
    "\n",
    "model = models.Sequential(name=f'MLP_31')\n",
    "model.add(layers.Dense(5, activation='relu', input_shape=(30,)))\n",
    "model.add(layers.Dropout(rate=0.5))\n",
    "model.add(layers.Dense(5, activation='relu'))\n",
    "model.add(layers.Dropout(rate=0.5))\n",
    "model.add(layers.Dense(1, activation='sigmoid'))\n",
    "models_list.append(model)\n",
    "\n",
    "model = models.Sequential(name=f'MLP_32')\n",
    "model.add(layers.Dense(10, activation='relu', input_shape=(30,)))\n",
    "model.add(layers.Dropout(rate=0.5))\n",
    "model.add(layers.Dense(10, activation='relu'))\n",
    "model.add(layers.Dropout(rate=0.5))\n",
    "model.add(layers.Dense(1, activation='sigmoid'))\n",
    "models_list.append(model)\n",
    "\n",
    "model = models.Sequential(name=f'MLP_33')\n",
    "model.add(layers.Dense(15, activation='relu', input_shape=(30,)))\n",
    "model.add(layers.Dropout(rate=0.5))\n",
    "model.add(layers.Dense(15, activation='relu'))\n",
    "model.add(layers.Dropout(rate=0.5))\n",
    "model.add(layers.Dense(1, activation='sigmoid'))\n",
    "models_list.append(model)\n",
    "\n",
    "model = models.Sequential(name=f'MLP_34')\n",
    "model.add(layers.Dense(30, activation='relu', input_shape=(30,)))\n",
    "model.add(layers.Dropout(rate=0.5))\n",
    "model.add(layers.Dense(30, activation='relu'))\n",
    "model.add(layers.Dropout(rate=0.5))\n",
    "model.add(layers.Dense(1, activation='sigmoid'))\n",
    "models_list.append(model)"
   ]
  },
  {
   "cell_type": "code",
   "execution_count": null,
   "metadata": {},
   "outputs": [],
   "source": [
    "# MLP 3 Layer\n",
    "model = models.Sequential(name=f'MLP_35')\n",
    "model.add(layers.Dense(30, activation='relu', input_shape=(30,)))\n",
    "model.add(layers.Dropout(rate=0.5))\n",
    "model.add(layers.Dense(15, activation='relu'))\n",
    "model.add(layers.Dropout(rate=0.5))\n",
    "model.add(layers.Dense(10, activation='relu'))\n",
    "model.add(layers.Dropout(rate=0.5))\n",
    "model.add(layers.Dense(1, activation='sigmoid'))\n",
    "models_list.append(model)\n",
    "\n",
    "model = models.Sequential(name=f'MLP_36')\n",
    "model.add(layers.Dense(10, activation='relu', input_shape=(30,)))\n",
    "model.add(layers.Dropout(rate=0.5))\n",
    "model.add(layers.Dense(15, activation='relu'))\n",
    "model.add(layers.Dropout(rate=0.5))\n",
    "model.add(layers.Dense(30, activation='relu'))\n",
    "model.add(layers.Dropout(rate=0.5))\n",
    "model.add(layers.Dense(1, activation='sigmoid'))\n",
    "models_list.append(model)"
   ]
  },
  {
   "cell_type": "code",
   "execution_count": null,
   "metadata": {},
   "outputs": [],
   "source": [
    "from time import time\n",
    "\n",
    "models_df = pd.DataFrame(columns=['Model Name', 'Train Accuracy', 'Train Loss', 'Validation Accuracy', 'Validation Loss'])\n",
    "print('Processing Models:')\n",
    "for model in models_list:\n",
    "    print(f'Fitting {model.name}...', end= \" \")    \n",
    "\n",
    "    t_start = time()    \n",
    "    history, model = model_fit(model, 2000, verbose=0)\n",
    "    t_end = time()\n",
    "\n",
    "    proc_data = proc_history(history)    \n",
    "\n",
    "    new_row = {'Model Name': model.name, **proc_data}\n",
    "    models_df.loc[len(models_df)] = new_row\n",
    "\n",
    "    print(f'Done! ({t_end-t_start} [s])')"
   ]
  }
 ],
 "metadata": {
  "kernelspec": {
   "display_name": ".venv",
   "language": "python",
   "name": "python3"
  },
  "language_info": {
   "codemirror_mode": {
    "name": "ipython",
    "version": 3
   },
   "file_extension": ".py",
   "mimetype": "text/x-python",
   "name": "python",
   "nbconvert_exporter": "python",
   "pygments_lexer": "ipython3",
   "version": "3.12.3"
  }
 },
 "nbformat": 4,
 "nbformat_minor": 2
}
